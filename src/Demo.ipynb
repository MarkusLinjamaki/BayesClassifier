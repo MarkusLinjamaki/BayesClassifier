{
 "cells": [
  {
   "cell_type": "markdown",
   "id": "7ada6ecc",
   "metadata": {},
   "source": [
    "# Bayesian classifier\n",
    "\n",
    "## 1. Install libraries\n",
    "\n"
   ]
  },
  {
   "cell_type": "code",
   "execution_count": 2,
   "id": "9b581bdf",
   "metadata": {},
   "outputs": [],
   "source": [
    "import os\n",
    "from bayesML import Bayes\n",
    "from cifarData import getCifarData\n",
    "\n"
   ]
  },
  {
   "cell_type": "markdown",
   "id": "b2aecbc0",
   "metadata": {},
   "source": [
    "## 2. getCifarData\n",
    "\n",
    "Use function getCifarData to download Cifar-10 dataset."
   ]
  },
  {
   "cell_type": "code",
   "execution_count": 8,
   "id": "8502babe",
   "metadata": {},
   "outputs": [],
   "source": [
    "path = os.path.dirname(os.path.abspath('')) \n",
    "# Get the data\n",
    "X_train,Y_train, X_test, Y_test = getCifarData(path)\n"
   ]
  },
  {
   "cell_type": "markdown",
   "id": "bfe3a24d",
   "metadata": {},
   "source": [
    "## 3.Use Bayesian classifier to classifie pictures\n",
    "### 3.1 cifar10_X_times_X_color\n",
    "To reduce the dimension of our data vectors $x_i$ from 3072-dimensions we rescale the images from 32 × 32\n",
    "to $n$ x $n$, where $n$ = 1,2,4,8,16 or 32. When you do this separately for each color channel (RGB) every CIFAR-10 image is represented with $n$ values that are the mean values of each color channel, i.e $x_i = x^{(i)}_{3×1} = (m^i_R, m^i_G, m^i_B )^T$ .\n",
    "### 3.2 Methods for the fit fuction\n",
    "You can choose between naive and multivariate Bayes classifier. The naive Bayes classifier assumes that features mR, mG and mB are independent and therefore a class specific posterior probability can be computed from \n",
    "    \n",
    "$P(class_1|x) = P (x|class_1)P (class_1) / \\sum_j P(x|class_j )P (class_j )$\n",
    "   \n",
    "   \n",
    "In the multivariate bayesian classifier we relax the naive assumption that the\n",
    "red, green and blue channels are independent. Instead of three 1-dimensional Gaussians we assume a single\n",
    "3-dimensional Gaussian. Classification becomes\n",
    "\n",
    "$P(class_1|x) = P(x|class_1)P(class_1) / \\sum_j P(x|class_j )P(class_j)$"
   ]
  },
  {
   "cell_type": "code",
   "execution_count": 9,
   "id": "670a2ce7",
   "metadata": {},
   "outputs": [
    {
     "name": "stderr",
     "output_type": "stream",
     "text": [
      "100%|██████████████████████████████████████████████████████████████████████████| 10000/10000 [00:01<00:00, 6443.54it/s]"
     ]
    },
    {
     "name": "stdout",
     "output_type": "stream",
     "text": [
      "\n",
      "Predicting accuracy is 0.2454.\n"
     ]
    },
    {
     "name": "stderr",
     "output_type": "stream",
     "text": [
      "\n"
     ]
    }
   ],
   "source": [
    "\n",
    "# Create model\n",
    "bay = Bayes()\n",
    "# Lets use naive bayesian and rescale the images to 2x2\n",
    "bay.fit(X_train, Y_train,2,'naive')\n",
    "bay.predict(X_test, Y_test, len(X_test))"
   ]
  },
  {
   "cell_type": "code",
   "execution_count": 11,
   "id": "fca7fb15",
   "metadata": {},
   "outputs": [
    {
     "name": "stderr",
     "output_type": "stream",
     "text": [
      "100%|██████████████████████████████████████████████████████████████████████████| 10000/10000 [00:06<00:00, 1493.61it/s]"
     ]
    },
    {
     "name": "stdout",
     "output_type": "stream",
     "text": [
      "\n",
      "Predicting accuracy is 0.2947.\n"
     ]
    },
    {
     "name": "stderr",
     "output_type": "stream",
     "text": [
      "\n"
     ]
    }
   ],
   "source": [
    "# We can get better results to increase the picture size\n",
    "bay.fit(X_train, Y_train,16,'naive')\n",
    "bay.predict(X_test, Y_test, len(X_test))"
   ]
  },
  {
   "cell_type": "code",
   "execution_count": 13,
   "id": "30a18dbc",
   "metadata": {},
   "outputs": [
    {
     "name": "stderr",
     "output_type": "stream",
     "text": [
      "100%|███████████████████████████████████████████████████████████████████████████| 10000/10000 [00:49<00:00, 200.18it/s]"
     ]
    },
    {
     "name": "stdout",
     "output_type": "stream",
     "text": [
      "\n",
      "Predicting accuracy is 0.3378.\n"
     ]
    },
    {
     "name": "stderr",
     "output_type": "stream",
     "text": [
      "\n"
     ]
    }
   ],
   "source": [
    "# Lets use multivariate bayesian and rescale the images to 4x4\n",
    "# We notice that using multivariate normal distribution fitting the model takes more time\n",
    "bay.fit(X_train, Y_train,4,'multivariate')\n",
    "bay.predict(X_test, Y_test, len(X_test))"
   ]
  },
  {
   "cell_type": "code",
   "execution_count": 14,
   "id": "c73ffa9e",
   "metadata": {},
   "outputs": [
    {
     "data": {
      "image/png": "[encoded data removed]",
      "text/plain": [
       "<Figure size 432x288 with 1 Axes>"
      ]
     },
     "metadata": {
      "needs_background": "light"
     },
     "output_type": "display_data"
    }
   ],
   "source": [
    "# We can also plot roc curve from the last results\n",
    "bay.roc()"
   ]
  },
  {
   "cell_type": "code",
   "execution_count": null,
   "id": "d0d1f02a",
   "metadata": {},
   "outputs": [],
   "source": []
  }
 ],
 "metadata": {
  "kernelspec": {
   "display_name": "Python 3",
   "language": "python",
   "name": "python3"
  },
  "language_info": {
   "codemirror_mode": {
    "name": "ipython",
    "version": 3
   },
   "file_extension": ".py",
   "mimetype": "text/x-python",
   "name": "python",
   "nbconvert_exporter": "python",
   "pygments_lexer": "ipython3",
   "version": "3.8.8"
  }
 },
 "nbformat": 4,
 "nbformat_minor": 5
}
